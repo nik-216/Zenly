{
 "cells": [
  {
   "cell_type": "code",
   "execution_count": 1,
   "id": "ea602b27",
   "metadata": {},
   "outputs": [
    {
     "name": "stdout",
     "output_type": "stream",
     "text": [
      "<class 'pandas.core.frame.DataFrame'>\n",
      "RangeIndex: 9999 entries, 0 to 9998\n",
      "Data columns (total 12 columns):\n",
      " #   Column                Non-Null Count  Dtype\n",
      "---  ------                --------------  -----\n",
      " 0   age                   9999 non-null   int64\n",
      " 1   Weight                9999 non-null   int64\n",
      " 2   SO02_level            9999 non-null   int64\n",
      " 3   resting_heart_rate    9999 non-null   int64\n",
      " 4   smoke normal          9999 non-null   bool \n",
      " 5   Stress factor normal  9999 non-null   bool \n",
      " 6   BMI                   9999 non-null   int64\n",
      " 7   ECG_normal            9999 non-null   bool \n",
      " 8   average_weekly_steps  9999 non-null   int64\n",
      " 9   sleep_average_weekly  9999 non-null   int64\n",
      " 10  HIIT                  9999 non-null   int64\n",
      " 11  Insurance factor      9999 non-null   int64\n",
      "dtypes: bool(3), int64(9)\n",
      "memory usage: 732.5 KB\n"
     ]
    }
   ],
   "source": [
    "import pandas as pd\n",
    "import numpy as np\n",
    "import matplotlib.pyplot as plt\n",
    "import seaborn as sns\n",
    "from sklearn.utils import resample\n",
    "\n",
    "df=pd.read_csv(r'C:\\Users\\nitik\\OneDrive\\Documents\\healthhack\\Fitbit-data.csv')\n",
    "\n",
    "df.head()\n",
    "\n",
    "df.info()"
   ]
  },
  {
   "cell_type": "code",
   "execution_count": 2,
   "id": "952a818b",
   "metadata": {},
   "outputs": [
    {
     "data": {
      "text/html": [
       "<div>\n",
       "<style scoped>\n",
       "    .dataframe tbody tr th:only-of-type {\n",
       "        vertical-align: middle;\n",
       "    }\n",
       "\n",
       "    .dataframe tbody tr th {\n",
       "        vertical-align: top;\n",
       "    }\n",
       "\n",
       "    .dataframe thead th {\n",
       "        text-align: right;\n",
       "    }\n",
       "</style>\n",
       "<table border=\"1\" class=\"dataframe\">\n",
       "  <thead>\n",
       "    <tr style=\"text-align: right;\">\n",
       "      <th></th>\n",
       "      <th>SO02_level</th>\n",
       "      <th>resting_heart_rate</th>\n",
       "      <th>average_weekly_steps</th>\n",
       "      <th>sleep_average_weekly</th>\n",
       "    </tr>\n",
       "  </thead>\n",
       "  <tbody>\n",
       "    <tr>\n",
       "      <th>0</th>\n",
       "      <td>99</td>\n",
       "      <td>68</td>\n",
       "      <td>13762</td>\n",
       "      <td>5</td>\n",
       "    </tr>\n",
       "    <tr>\n",
       "      <th>1</th>\n",
       "      <td>99</td>\n",
       "      <td>55</td>\n",
       "      <td>1099</td>\n",
       "      <td>5</td>\n",
       "    </tr>\n",
       "    <tr>\n",
       "      <th>2</th>\n",
       "      <td>90</td>\n",
       "      <td>76</td>\n",
       "      <td>7885</td>\n",
       "      <td>9</td>\n",
       "    </tr>\n",
       "    <tr>\n",
       "      <th>3</th>\n",
       "      <td>87</td>\n",
       "      <td>61</td>\n",
       "      <td>11309</td>\n",
       "      <td>8</td>\n",
       "    </tr>\n",
       "    <tr>\n",
       "      <th>4</th>\n",
       "      <td>89</td>\n",
       "      <td>75</td>\n",
       "      <td>12889</td>\n",
       "      <td>8</td>\n",
       "    </tr>\n",
       "  </tbody>\n",
       "</table>\n",
       "</div>"
      ],
      "text/plain": [
       "   SO02_level  resting_heart_rate  average_weekly_steps  sleep_average_weekly\n",
       "0          99                  68                 13762                     5\n",
       "1          99                  55                  1099                     5\n",
       "2          90                  76                  7885                     9\n",
       "3          87                  61                 11309                     8\n",
       "4          89                  75                 12889                     8"
      ]
     },
     "execution_count": 2,
     "metadata": {},
     "output_type": "execute_result"
    }
   ],
   "source": [
    "data= df[[\"SO02_level\", \"resting_heart_rate\", \"average_weekly_steps\", \"sleep_average_weekly\"]]\n",
    "data.head()\n"
   ]
  },
  {
   "cell_type": "code",
   "execution_count": 3,
   "id": "8dcd1ccb",
   "metadata": {},
   "outputs": [],
   "source": [
    "data_2=data\n",
    "import random\n",
    "\n",
    "for x in range(9999):\n",
    "    if(data_2.at[x,'sleep_average_weekly']>8):\n",
    "        data_2.at[x,'sleep_average_weekly']=random.randint(5,7)\n",
    "\n",
    "index_list=[]\n",
    "for x in range(9999):\n",
    "    if(data_2.at[x,'sleep_average_weekly']>6):\n",
    "        index_list.append(x)\n",
    "\n",
    "for j in range(1000):\n",
    "       data_2.at[random.choice(index_list),'sleep_average_weekly']=random.randint(9,11)"
   ]
  },
  {
   "cell_type": "code",
   "execution_count": 4,
   "id": "2b4f8814",
   "metadata": {},
   "outputs": [
    {
     "name": "stdout",
     "output_type": "stream",
     "text": [
      "Class\n",
      "Alert    9999\n",
      "Name: count, dtype: int64\n"
     ]
    },
    {
     "name": "stderr",
     "output_type": "stream",
     "text": [
      "C:\\Users\\nitik\\AppData\\Local\\Temp\\ipykernel_28384\\3698525250.py:8: SettingWithCopyWarning: \n",
      "A value is trying to be set on a copy of a slice from a DataFrame.\n",
      "Try using .loc[row_indexer,col_indexer] = value instead\n",
      "\n",
      "See the caveats in the documentation: https://pandas.pydata.org/pandas-docs/stable/user_guide/indexing.html#returning-a-view-versus-a-copy\n",
      "  data_2.loc[:, \"Class\"] = new_col\n"
     ]
    }
   ],
   "source": [
    "rows=9999\n",
    "new_col=[]\n",
    "for j in range(9999):\n",
    "    if(6<=data_2.at[j,'sleep_average_weekly']<=8 & 55<=data_2.at[j,'resting_heart_rate']<=85):\n",
    "        new_col.append(\"Normal\")\n",
    "    else:\n",
    "        new_col.append(\"Alert\")\n",
    "data_2.loc[:, \"Class\"] = new_col\n",
    "\n",
    "counts = data_2['Class'].value_counts()\n",
    "\n",
    "print(counts)"
   ]
  },
  {
   "cell_type": "code",
   "execution_count": 5,
   "id": "3b658ff7",
   "metadata": {},
   "outputs": [
    {
     "name": "stdout",
     "output_type": "stream",
     "text": [
      "resting_heart_rate\n",
      "56    462\n",
      "61    432\n",
      "55    414\n",
      "67    410\n",
      "58    383\n",
      "76    382\n",
      "57    350\n",
      "75    342\n",
      "51    342\n",
      "77    340\n",
      "63    340\n",
      "73    332\n",
      "53    330\n",
      "69    330\n",
      "64    330\n",
      "70    320\n",
      "62    320\n",
      "60    312\n",
      "71    312\n",
      "80    310\n",
      "52    302\n",
      "74    302\n",
      "50    302\n",
      "59    300\n",
      "66    274\n",
      "79    260\n",
      "65    250\n",
      "54    242\n",
      "72    230\n",
      "78    230\n",
      "68    214\n",
      "Name: count, dtype: int64\n"
     ]
    }
   ],
   "source": [
    "counts = data['resting_heart_rate'].value_counts()\n",
    "\n",
    "print(counts)"
   ]
  },
  {
   "cell_type": "code",
   "execution_count": 6,
   "id": "d6978fd3",
   "metadata": {},
   "outputs": [],
   "source": [
    "# 55-70 20% to 70 to 85"
   ]
  },
  {
   "cell_type": "code",
   "execution_count": 7,
   "id": "6eb01fd3",
   "metadata": {},
   "outputs": [],
   "source": [
    "\n",
    "index_list=[]\n",
    "for x in range(9999):\n",
    "    if(55<=data_2.at[x,'resting_heart_rate']<=70):\n",
    "        index_list.append(x)\n",
    "\n",
    "for j in range(1072):\n",
    "       data_2.at[random.choice(index_list),'resting_heart_rate']=random.randint(69,86)"
   ]
  },
  {
   "cell_type": "code",
   "execution_count": 22,
   "id": "25f2ced8",
   "metadata": {},
   "outputs": [
    {
     "name": "stdout",
     "output_type": "stream",
     "text": [
      "sleep_average_weekly\n",
      "6     2658\n",
      "5     2595\n",
      "7     1912\n",
      "4     1090\n",
      "8      875\n",
      "11     310\n",
      "9      280\n",
      "10     279\n",
      "Name: count, dtype: int64\n"
     ]
    }
   ],
   "source": [
    "counts = data['sleep_average_weekly'].value_counts()\n",
    "\n",
    "print(counts)"
   ]
  },
  {
   "cell_type": "code",
   "execution_count": 9,
   "id": "c5fde6e5",
   "metadata": {},
   "outputs": [
    {
     "name": "stdout",
     "output_type": "stream",
     "text": [
      "Class\n",
      "Normal    5412\n",
      "Alert     4587\n",
      "Name: count, dtype: int64\n"
     ]
    }
   ],
   "source": [
    "rows=9999\n",
    "new_col=[]\n",
    "for j in range(9999):\n",
    "    if( 6<=data_2.at[j,'sleep_average_weekly']<=8 & 60<=data_2.at[j,'resting_heart_rate']<=85):\n",
    "        new_col.append(\"Normal\")\n",
    "    else:\n",
    "        new_col.append(\"Alert\")\n",
    "data_2.loc[:, \"Class\"] = new_col\n",
    "\n",
    "counts = data_2['Class'].value_counts()\n",
    "\n",
    "print(counts)"
   ]
  },
  {
   "cell_type": "code",
   "execution_count": 37,
   "id": "cb993c59",
   "metadata": {},
   "outputs": [
    {
     "name": "stdout",
     "output_type": "stream",
     "text": [
      "Class\n",
      "Alert    9999\n",
      "Name: count, dtype: int64\n"
     ]
    }
   ],
   "source": [
    "\n",
    "rows=9999\n",
    "new_col=[]\n",
    "for j in range(9999):\n",
    "    if( 6<=data_2.at[j,'sleep_average_weekly']<=8 & 60<=data_2.at[j,'resting_heart_rate']<=85 & 90<data_2.at[j, \"SO02_level\"]<100 & 6<=data_2.at[j,'sleep_average_weekly']<=8):\n",
    "        new_col.append(\"Normal\")\n",
    "    else:\n",
    "        new_col.append(\"Alert\")\n",
    "data_2.loc[:, \"Class\"] = new_col\n",
    "\n",
    "counts = data_2['Class'].value_counts()\n",
    "\n",
    "print(counts)"
   ]
  },
  {
   "cell_type": "code",
   "execution_count": 38,
   "id": "5d0db822",
   "metadata": {},
   "outputs": [
    {
     "data": {
      "text/html": [
       "<div>\n",
       "<style scoped>\n",
       "    .dataframe tbody tr th:only-of-type {\n",
       "        vertical-align: middle;\n",
       "    }\n",
       "\n",
       "    .dataframe tbody tr th {\n",
       "        vertical-align: top;\n",
       "    }\n",
       "\n",
       "    .dataframe thead th {\n",
       "        text-align: right;\n",
       "    }\n",
       "</style>\n",
       "<table border=\"1\" class=\"dataframe\">\n",
       "  <thead>\n",
       "    <tr style=\"text-align: right;\">\n",
       "      <th></th>\n",
       "      <th>SO02_level</th>\n",
       "      <th>resting_heart_rate</th>\n",
       "      <th>average_weekly_steps</th>\n",
       "      <th>sleep_average_weekly</th>\n",
       "      <th>Class</th>\n",
       "    </tr>\n",
       "  </thead>\n",
       "  <tbody>\n",
       "    <tr>\n",
       "      <th>0</th>\n",
       "      <td>99</td>\n",
       "      <td>68</td>\n",
       "      <td>13762</td>\n",
       "      <td>5</td>\n",
       "      <td>Alert</td>\n",
       "    </tr>\n",
       "    <tr>\n",
       "      <th>1</th>\n",
       "      <td>99</td>\n",
       "      <td>55</td>\n",
       "      <td>1099</td>\n",
       "      <td>5</td>\n",
       "      <td>Alert</td>\n",
       "    </tr>\n",
       "    <tr>\n",
       "      <th>2</th>\n",
       "      <td>90</td>\n",
       "      <td>76</td>\n",
       "      <td>7885</td>\n",
       "      <td>11</td>\n",
       "      <td>Alert</td>\n",
       "    </tr>\n",
       "    <tr>\n",
       "      <th>3</th>\n",
       "      <td>87</td>\n",
       "      <td>61</td>\n",
       "      <td>11309</td>\n",
       "      <td>8</td>\n",
       "      <td>Alert</td>\n",
       "    </tr>\n",
       "    <tr>\n",
       "      <th>4</th>\n",
       "      <td>89</td>\n",
       "      <td>75</td>\n",
       "      <td>12889</td>\n",
       "      <td>11</td>\n",
       "      <td>Alert</td>\n",
       "    </tr>\n",
       "  </tbody>\n",
       "</table>\n",
       "</div>"
      ],
      "text/plain": [
       "   SO02_level  resting_heart_rate  average_weekly_steps  sleep_average_weekly  \\\n",
       "0          99                  68                 13762                     5   \n",
       "1          99                  55                  1099                     5   \n",
       "2          90                  76                  7885                    11   \n",
       "3          87                  61                 11309                     8   \n",
       "4          89                  75                 12889                    11   \n",
       "\n",
       "   Class  \n",
       "0  Alert  \n",
       "1  Alert  \n",
       "2  Alert  \n",
       "3  Alert  \n",
       "4  Alert  "
      ]
     },
     "execution_count": 38,
     "metadata": {},
     "output_type": "execute_result"
    }
   ],
   "source": [
    "data_2.head()"
   ]
  },
  {
   "cell_type": "code",
   "execution_count": 12,
   "id": "a02376ba",
   "metadata": {},
   "outputs": [],
   "source": [
    "from sklearn.metrics  import f1_score,accuracy_score\n",
    "from sklearn.tree import DecisionTreeClassifier\n",
    "from sklearn.model_selection import train_test_split"
   ]
  },
  {
   "cell_type": "code",
   "execution_count": 13,
   "id": "3ca1d785",
   "metadata": {},
   "outputs": [
    {
     "name": "stderr",
     "output_type": "stream",
     "text": [
      "C:\\Users\\nitik\\AppData\\Local\\Temp\\ipykernel_28384\\494743411.py:1: SettingWithCopyWarning: \n",
      "A value is trying to be set on a copy of a slice from a DataFrame.\n",
      "Try using .loc[row_indexer,col_indexer] = value instead\n",
      "\n",
      "See the caveats in the documentation: https://pandas.pydata.org/pandas-docs/stable/user_guide/indexing.html#returning-a-view-versus-a-copy\n",
      "  data_2['Class'] = data_2['Class'].map({\"Normal\":0,'Alert':1})\n"
     ]
    }
   ],
   "source": [
    "data_2['Class'] = data_2['Class'].map({\"Normal\":0,'Alert':1})"
   ]
  },
  {
   "cell_type": "code",
   "execution_count": 14,
   "id": "1eca892a",
   "metadata": {},
   "outputs": [
    {
     "data": {
      "text/html": [
       "<div>\n",
       "<style scoped>\n",
       "    .dataframe tbody tr th:only-of-type {\n",
       "        vertical-align: middle;\n",
       "    }\n",
       "\n",
       "    .dataframe tbody tr th {\n",
       "        vertical-align: top;\n",
       "    }\n",
       "\n",
       "    .dataframe thead th {\n",
       "        text-align: right;\n",
       "    }\n",
       "</style>\n",
       "<table border=\"1\" class=\"dataframe\">\n",
       "  <thead>\n",
       "    <tr style=\"text-align: right;\">\n",
       "      <th></th>\n",
       "      <th>SO02_level</th>\n",
       "      <th>resting_heart_rate</th>\n",
       "      <th>average_weekly_steps</th>\n",
       "      <th>sleep_average_weekly</th>\n",
       "      <th>Class</th>\n",
       "    </tr>\n",
       "  </thead>\n",
       "  <tbody>\n",
       "    <tr>\n",
       "      <th>0</th>\n",
       "      <td>99</td>\n",
       "      <td>68</td>\n",
       "      <td>13762</td>\n",
       "      <td>5</td>\n",
       "      <td>1</td>\n",
       "    </tr>\n",
       "    <tr>\n",
       "      <th>1</th>\n",
       "      <td>99</td>\n",
       "      <td>55</td>\n",
       "      <td>1099</td>\n",
       "      <td>5</td>\n",
       "      <td>1</td>\n",
       "    </tr>\n",
       "    <tr>\n",
       "      <th>2</th>\n",
       "      <td>90</td>\n",
       "      <td>76</td>\n",
       "      <td>7885</td>\n",
       "      <td>11</td>\n",
       "      <td>1</td>\n",
       "    </tr>\n",
       "    <tr>\n",
       "      <th>3</th>\n",
       "      <td>87</td>\n",
       "      <td>61</td>\n",
       "      <td>11309</td>\n",
       "      <td>8</td>\n",
       "      <td>1</td>\n",
       "    </tr>\n",
       "    <tr>\n",
       "      <th>4</th>\n",
       "      <td>89</td>\n",
       "      <td>75</td>\n",
       "      <td>12889</td>\n",
       "      <td>11</td>\n",
       "      <td>1</td>\n",
       "    </tr>\n",
       "  </tbody>\n",
       "</table>\n",
       "</div>"
      ],
      "text/plain": [
       "   SO02_level  resting_heart_rate  average_weekly_steps  sleep_average_weekly  \\\n",
       "0          99                  68                 13762                     5   \n",
       "1          99                  55                  1099                     5   \n",
       "2          90                  76                  7885                    11   \n",
       "3          87                  61                 11309                     8   \n",
       "4          89                  75                 12889                    11   \n",
       "\n",
       "   Class  \n",
       "0      1  \n",
       "1      1  \n",
       "2      1  \n",
       "3      1  \n",
       "4      1  "
      ]
     },
     "execution_count": 14,
     "metadata": {},
     "output_type": "execute_result"
    }
   ],
   "source": [
    "data_2.head()"
   ]
  },
  {
   "cell_type": "code",
   "execution_count": 15,
   "id": "de11de76",
   "metadata": {},
   "outputs": [],
   "source": [
    "x=data_2.drop([\"Class\"],axis=1)\n",
    "y=data_2[\"Class\"]"
   ]
  },
  {
   "cell_type": "code",
   "execution_count": 31,
   "id": "a1eb89ef",
   "metadata": {},
   "outputs": [],
   "source": [
    "x_train, x_test, y_train, y_test = train_test_split(x,y,test_size=0.25)"
   ]
  },
  {
   "cell_type": "code",
   "execution_count": 32,
   "id": "6da48c34",
   "metadata": {},
   "outputs": [],
   "source": [
    "dtc = DecisionTreeClassifier()"
   ]
  },
  {
   "cell_type": "code",
   "execution_count": 33,
   "id": "f64897e7",
   "metadata": {},
   "outputs": [
    {
     "data": {
      "text/html": [
       "<style>#sk-container-id-3 {color: black;}#sk-container-id-3 pre{padding: 0;}#sk-container-id-3 div.sk-toggleable {background-color: white;}#sk-container-id-3 label.sk-toggleable__label {cursor: pointer;display: block;width: 100%;margin-bottom: 0;padding: 0.3em;box-sizing: border-box;text-align: center;}#sk-container-id-3 label.sk-toggleable__label-arrow:before {content: \"▸\";float: left;margin-right: 0.25em;color: #696969;}#sk-container-id-3 label.sk-toggleable__label-arrow:hover:before {color: black;}#sk-container-id-3 div.sk-estimator:hover label.sk-toggleable__label-arrow:before {color: black;}#sk-container-id-3 div.sk-toggleable__content {max-height: 0;max-width: 0;overflow: hidden;text-align: left;background-color: #f0f8ff;}#sk-container-id-3 div.sk-toggleable__content pre {margin: 0.2em;color: black;border-radius: 0.25em;background-color: #f0f8ff;}#sk-container-id-3 input.sk-toggleable__control:checked~div.sk-toggleable__content {max-height: 200px;max-width: 100%;overflow: auto;}#sk-container-id-3 input.sk-toggleable__control:checked~label.sk-toggleable__label-arrow:before {content: \"▾\";}#sk-container-id-3 div.sk-estimator input.sk-toggleable__control:checked~label.sk-toggleable__label {background-color: #d4ebff;}#sk-container-id-3 div.sk-label input.sk-toggleable__control:checked~label.sk-toggleable__label {background-color: #d4ebff;}#sk-container-id-3 input.sk-hidden--visually {border: 0;clip: rect(1px 1px 1px 1px);clip: rect(1px, 1px, 1px, 1px);height: 1px;margin: -1px;overflow: hidden;padding: 0;position: absolute;width: 1px;}#sk-container-id-3 div.sk-estimator {font-family: monospace;background-color: #f0f8ff;border: 1px dotted black;border-radius: 0.25em;box-sizing: border-box;margin-bottom: 0.5em;}#sk-container-id-3 div.sk-estimator:hover {background-color: #d4ebff;}#sk-container-id-3 div.sk-parallel-item::after {content: \"\";width: 100%;border-bottom: 1px solid gray;flex-grow: 1;}#sk-container-id-3 div.sk-label:hover label.sk-toggleable__label {background-color: #d4ebff;}#sk-container-id-3 div.sk-serial::before {content: \"\";position: absolute;border-left: 1px solid gray;box-sizing: border-box;top: 0;bottom: 0;left: 50%;z-index: 0;}#sk-container-id-3 div.sk-serial {display: flex;flex-direction: column;align-items: center;background-color: white;padding-right: 0.2em;padding-left: 0.2em;position: relative;}#sk-container-id-3 div.sk-item {position: relative;z-index: 1;}#sk-container-id-3 div.sk-parallel {display: flex;align-items: stretch;justify-content: center;background-color: white;position: relative;}#sk-container-id-3 div.sk-item::before, #sk-container-id-3 div.sk-parallel-item::before {content: \"\";position: absolute;border-left: 1px solid gray;box-sizing: border-box;top: 0;bottom: 0;left: 50%;z-index: -1;}#sk-container-id-3 div.sk-parallel-item {display: flex;flex-direction: column;z-index: 1;position: relative;background-color: white;}#sk-container-id-3 div.sk-parallel-item:first-child::after {align-self: flex-end;width: 50%;}#sk-container-id-3 div.sk-parallel-item:last-child::after {align-self: flex-start;width: 50%;}#sk-container-id-3 div.sk-parallel-item:only-child::after {width: 0;}#sk-container-id-3 div.sk-dashed-wrapped {border: 1px dashed gray;margin: 0 0.4em 0.5em 0.4em;box-sizing: border-box;padding-bottom: 0.4em;background-color: white;}#sk-container-id-3 div.sk-label label {font-family: monospace;font-weight: bold;display: inline-block;line-height: 1.2em;}#sk-container-id-3 div.sk-label-container {text-align: center;}#sk-container-id-3 div.sk-container {/* jupyter's `normalize.less` sets `[hidden] { display: none; }` but bootstrap.min.css set `[hidden] { display: none !important; }` so we also need the `!important` here to be able to override the default hidden behavior on the sphinx rendered scikit-learn.org. See: https://github.com/scikit-learn/scikit-learn/issues/21755 */display: inline-block !important;position: relative;}#sk-container-id-3 div.sk-text-repr-fallback {display: none;}</style><div id=\"sk-container-id-3\" class=\"sk-top-container\"><div class=\"sk-text-repr-fallback\"><pre>DecisionTreeClassifier()</pre><b>In a Jupyter environment, please rerun this cell to show the HTML representation or trust the notebook. <br />On GitHub, the HTML representation is unable to render, please try loading this page with nbviewer.org.</b></div><div class=\"sk-container\" hidden><div class=\"sk-item\"><div class=\"sk-estimator sk-toggleable\"><input class=\"sk-toggleable__control sk-hidden--visually\" id=\"sk-estimator-id-3\" type=\"checkbox\" checked><label for=\"sk-estimator-id-3\" class=\"sk-toggleable__label sk-toggleable__label-arrow\">DecisionTreeClassifier</label><div class=\"sk-toggleable__content\"><pre>DecisionTreeClassifier()</pre></div></div></div></div></div>"
      ],
      "text/plain": [
       "DecisionTreeClassifier()"
      ]
     },
     "execution_count": 33,
     "metadata": {},
     "output_type": "execute_result"
    }
   ],
   "source": [
    "dtc.fit(x_train,y_train)"
   ]
  },
  {
   "cell_type": "code",
   "execution_count": 34,
   "id": "a204460d",
   "metadata": {},
   "outputs": [],
   "source": [
    "y_pred = dtc.predict(x_test)"
   ]
  },
  {
   "cell_type": "code",
   "execution_count": 35,
   "id": "7c91c990",
   "metadata": {},
   "outputs": [
    {
     "data": {
      "text/plain": [
       "1.0"
      ]
     },
     "execution_count": 35,
     "metadata": {},
     "output_type": "execute_result"
    }
   ],
   "source": [
    "accuracy_score(y_pred,y_test)"
   ]
  },
  {
   "cell_type": "code",
   "execution_count": 36,
   "id": "424427c2",
   "metadata": {},
   "outputs": [
    {
     "name": "stdout",
     "output_type": "stream",
     "text": [
      "resting_heart_rate\n",
      "76    439\n",
      "75    394\n",
      "73    391\n",
      "77    385\n",
      "80    365\n",
      "71    361\n",
      "74    357\n",
      "56    355\n",
      "61    349\n",
      "55    344\n",
      "51    342\n",
      "69    338\n",
      "67    333\n",
      "53    330\n",
      "58    321\n",
      "70    314\n",
      "79    306\n",
      "50    302\n",
      "52    302\n",
      "72    296\n",
      "78    287\n",
      "63    283\n",
      "57    279\n",
      "64    275\n",
      "60    260\n",
      "59    258\n",
      "62    257\n",
      "54    242\n",
      "66    228\n",
      "65    204\n",
      "68    178\n",
      "81     58\n",
      "84     58\n",
      "86     56\n",
      "85     51\n",
      "83     51\n",
      "82     50\n",
      "Name: count, dtype: int64\n"
     ]
    }
   ],
   "source": [
    "counts = data['resting_heart_rate'].value_counts()\n",
    "\n",
    "print(counts)"
   ]
  },
  {
   "cell_type": "code",
   "execution_count": null,
   "id": "47c587d6",
   "metadata": {},
   "outputs": [],
   "source": [
    "counts = data['resting_heart_rate'].value_counts()\n",
    "\n",
    "print(counts)"
   ]
  }
 ],
 "metadata": {
  "kernelspec": {
   "display_name": "Python 3 (ipykernel)",
   "language": "python",
   "name": "python3"
  },
  "language_info": {
   "codemirror_mode": {
    "name": "ipython",
    "version": 3
   },
   "file_extension": ".py",
   "mimetype": "text/x-python",
   "name": "python",
   "nbconvert_exporter": "python",
   "pygments_lexer": "ipython3",
   "version": "3.11.5"
  }
 },
 "nbformat": 4,
 "nbformat_minor": 5
}
