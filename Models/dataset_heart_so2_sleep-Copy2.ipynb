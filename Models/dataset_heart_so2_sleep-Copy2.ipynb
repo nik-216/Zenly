{
 "cells": [
  {
   "cell_type": "code",
   "execution_count": 1,
   "id": "1add806f",
   "metadata": {},
   "outputs": [
    {
     "name": "stdout",
     "output_type": "stream",
     "text": [
      "<class 'pandas.core.frame.DataFrame'>\n",
      "RangeIndex: 9999 entries, 0 to 9998\n",
      "Data columns (total 12 columns):\n",
      " #   Column                Non-Null Count  Dtype\n",
      "---  ------                --------------  -----\n",
      " 0   age                   9999 non-null   int64\n",
      " 1   Weight                9999 non-null   int64\n",
      " 2   SO02_level            9999 non-null   int64\n",
      " 3   resting_heart_rate    9999 non-null   int64\n",
      " 4   smoke normal          9999 non-null   bool \n",
      " 5   Stress factor normal  9999 non-null   bool \n",
      " 6   BMI                   9999 non-null   int64\n",
      " 7   ECG_normal            9999 non-null   bool \n",
      " 8   average_weekly_steps  9999 non-null   int64\n",
      " 9   sleep_average_weekly  9999 non-null   int64\n",
      " 10  HIIT                  9999 non-null   int64\n",
      " 11  Insurance factor      9999 non-null   int64\n",
      "dtypes: bool(3), int64(9)\n",
      "memory usage: 732.5 KB\n"
     ]
    }
   ],
   "source": [
    "import pandas as pd\n",
    "import numpy as np\n",
    "import matplotlib.pyplot as plt\n",
    "import seaborn as sns\n",
    "from sklearn.utils import resample\n",
    "\n",
    "df=pd.read_csv(r'C:\\Users\\nitik\\OneDrive\\Documents\\healthhack\\Fitbit-data.csv')\n",
    "\n",
    "df.head()\n",
    "\n",
    "df.info()"
   ]
  },
  {
   "cell_type": "code",
   "execution_count": 2,
   "id": "83fba594",
   "metadata": {},
   "outputs": [
    {
     "data": {
      "text/html": [
       "<div>\n",
       "<style scoped>\n",
       "    .dataframe tbody tr th:only-of-type {\n",
       "        vertical-align: middle;\n",
       "    }\n",
       "\n",
       "    .dataframe tbody tr th {\n",
       "        vertical-align: top;\n",
       "    }\n",
       "\n",
       "    .dataframe thead th {\n",
       "        text-align: right;\n",
       "    }\n",
       "</style>\n",
       "<table border=\"1\" class=\"dataframe\">\n",
       "  <thead>\n",
       "    <tr style=\"text-align: right;\">\n",
       "      <th></th>\n",
       "      <th>SO02_level</th>\n",
       "      <th>resting_heart_rate</th>\n",
       "      <th>average_weekly_steps</th>\n",
       "      <th>sleep_average_weekly</th>\n",
       "    </tr>\n",
       "  </thead>\n",
       "  <tbody>\n",
       "    <tr>\n",
       "      <th>0</th>\n",
       "      <td>99</td>\n",
       "      <td>68</td>\n",
       "      <td>13762</td>\n",
       "      <td>5</td>\n",
       "    </tr>\n",
       "    <tr>\n",
       "      <th>1</th>\n",
       "      <td>99</td>\n",
       "      <td>55</td>\n",
       "      <td>1099</td>\n",
       "      <td>5</td>\n",
       "    </tr>\n",
       "    <tr>\n",
       "      <th>2</th>\n",
       "      <td>90</td>\n",
       "      <td>76</td>\n",
       "      <td>7885</td>\n",
       "      <td>9</td>\n",
       "    </tr>\n",
       "    <tr>\n",
       "      <th>3</th>\n",
       "      <td>87</td>\n",
       "      <td>61</td>\n",
       "      <td>11309</td>\n",
       "      <td>8</td>\n",
       "    </tr>\n",
       "    <tr>\n",
       "      <th>4</th>\n",
       "      <td>89</td>\n",
       "      <td>75</td>\n",
       "      <td>12889</td>\n",
       "      <td>8</td>\n",
       "    </tr>\n",
       "  </tbody>\n",
       "</table>\n",
       "</div>"
      ],
      "text/plain": [
       "   SO02_level  resting_heart_rate  average_weekly_steps  sleep_average_weekly\n",
       "0          99                  68                 13762                     5\n",
       "1          99                  55                  1099                     5\n",
       "2          90                  76                  7885                     9\n",
       "3          87                  61                 11309                     8\n",
       "4          89                  75                 12889                     8"
      ]
     },
     "execution_count": 2,
     "metadata": {},
     "output_type": "execute_result"
    }
   ],
   "source": [
    "data= df[[\"SO02_level\", \"resting_heart_rate\", \"average_weekly_steps\", \"sleep_average_weekly\"]]\n",
    "data.head()\n"
   ]
  },
  {
   "cell_type": "code",
   "execution_count": 3,
   "id": "253fca78",
   "metadata": {},
   "outputs": [],
   "source": [
    "data_2=data\n",
    "import random\n",
    "\n",
    "for x in range(9999):\n",
    "    if(data_2.at[x,'sleep_average_weekly']>8):\n",
    "        data_2.at[x,'sleep_average_weekly']=random.randint(5,7)\n",
    "\n",
    "index_list=[]\n",
    "for x in range(9999):\n",
    "    if(data_2.at[x,'sleep_average_weekly']>6):\n",
    "        index_list.append(x)\n",
    "\n",
    "for j in range(1000):\n",
    "       data_2.at[random.choice(index_list),'sleep_average_weekly']=random.randint(9,11)"
   ]
  },
  {
   "cell_type": "code",
   "execution_count": 4,
   "id": "b81b6eef",
   "metadata": {},
   "outputs": [
    {
     "name": "stdout",
     "output_type": "stream",
     "text": [
      "Class\n",
      "Alert    9999\n",
      "Name: count, dtype: int64\n"
     ]
    },
    {
     "name": "stderr",
     "output_type": "stream",
     "text": [
      "C:\\Users\\nitik\\AppData\\Local\\Temp\\ipykernel_45632\\3698525250.py:8: SettingWithCopyWarning: \n",
      "A value is trying to be set on a copy of a slice from a DataFrame.\n",
      "Try using .loc[row_indexer,col_indexer] = value instead\n",
      "\n",
      "See the caveats in the documentation: https://pandas.pydata.org/pandas-docs/stable/user_guide/indexing.html#returning-a-view-versus-a-copy\n",
      "  data_2.loc[:, \"Class\"] = new_col\n"
     ]
    }
   ],
   "source": [
    "rows=9999\n",
    "new_col=[]\n",
    "for j in range(9999):\n",
    "    if(6<=data_2.at[j,'sleep_average_weekly']<=8 & 55<=data_2.at[j,'resting_heart_rate']<=85):\n",
    "        new_col.append(\"Normal\")\n",
    "    else:\n",
    "        new_col.append(\"Alert\")\n",
    "data_2.loc[:, \"Class\"] = new_col\n",
    "\n",
    "counts = data_2['Class'].value_counts()\n",
    "\n",
    "print(counts)"
   ]
  },
  {
   "cell_type": "code",
   "execution_count": 5,
   "id": "37065eae",
   "metadata": {},
   "outputs": [
    {
     "name": "stdout",
     "output_type": "stream",
     "text": [
      "resting_heart_rate\n",
      "56    462\n",
      "61    432\n",
      "55    414\n",
      "67    410\n",
      "58    383\n",
      "76    382\n",
      "57    350\n",
      "75    342\n",
      "51    342\n",
      "77    340\n",
      "63    340\n",
      "73    332\n",
      "53    330\n",
      "69    330\n",
      "64    330\n",
      "70    320\n",
      "62    320\n",
      "60    312\n",
      "71    312\n",
      "80    310\n",
      "52    302\n",
      "74    302\n",
      "50    302\n",
      "59    300\n",
      "66    274\n",
      "79    260\n",
      "65    250\n",
      "54    242\n",
      "72    230\n",
      "78    230\n",
      "68    214\n",
      "Name: count, dtype: int64\n"
     ]
    }
   ],
   "source": [
    "counts = data['resting_heart_rate'].value_counts()\n",
    "\n",
    "print(counts)"
   ]
  },
  {
   "cell_type": "code",
   "execution_count": 6,
   "id": "900cc487",
   "metadata": {},
   "outputs": [],
   "source": [
    "# 55-70 20% to 70 to 85"
   ]
  },
  {
   "cell_type": "code",
   "execution_count": 7,
   "id": "3f169704",
   "metadata": {},
   "outputs": [],
   "source": [
    "\n",
    "index_list=[]\n",
    "for x in range(9999):\n",
    "    if(55<=data_2.at[x,'resting_heart_rate']<=70):\n",
    "        index_list.append(x)\n",
    "\n",
    "for j in range(1072):\n",
    "       data_2.at[random.choice(index_list),'resting_heart_rate']=random.randint(69,86)"
   ]
  },
  {
   "cell_type": "code",
   "execution_count": 8,
   "id": "bb23c15c",
   "metadata": {},
   "outputs": [
    {
     "name": "stdout",
     "output_type": "stream",
     "text": [
      "resting_heart_rate\n",
      "76    427\n",
      "77    411\n",
      "75    406\n",
      "56    385\n",
      "73    375\n",
      "80    371\n",
      "71    367\n",
      "74    353\n",
      "67    343\n",
      "51    342\n",
      "55    340\n",
      "61    339\n",
      "79    331\n",
      "53    330\n",
      "69    323\n",
      "70    322\n",
      "58    312\n",
      "52    302\n",
      "50    302\n",
      "72    293\n",
      "78    283\n",
      "63    273\n",
      "64    271\n",
      "57    264\n",
      "60    264\n",
      "62    263\n",
      "59    251\n",
      "54    242\n",
      "66    222\n",
      "65    209\n",
      "68    179\n",
      "82     71\n",
      "85     61\n",
      "86     45\n",
      "84     44\n",
      "83     44\n",
      "81     39\n",
      "Name: count, dtype: int64\n"
     ]
    }
   ],
   "source": [
    "counts = data['resting_heart_rate'].value_counts()\n",
    "\n",
    "print(counts)"
   ]
  },
  {
   "cell_type": "code",
   "execution_count": 9,
   "id": "b1e42a3e",
   "metadata": {},
   "outputs": [
    {
     "name": "stdout",
     "output_type": "stream",
     "text": [
      "Class\n",
      "Normal    5416\n",
      "Alert     4583\n",
      "Name: count, dtype: int64\n"
     ]
    }
   ],
   "source": [
    "rows=9999\n",
    "new_col=[]\n",
    "for j in range(9999):\n",
    "    if( 6<=data_2.at[j,'sleep_average_weekly']<=8 & 60<=data_2.at[j,'resting_heart_rate']<=85):\n",
    "        new_col.append(\"Normal\")\n",
    "    else:\n",
    "        new_col.append(\"Alert\")\n",
    "data_2.loc[:, \"Class\"] = new_col\n",
    "\n",
    "counts = data_2['Class'].value_counts()\n",
    "\n",
    "print(counts)"
   ]
  },
  {
   "cell_type": "code",
   "execution_count": 10,
   "id": "2d87c09e",
   "metadata": {},
   "outputs": [
    {
     "name": "stdout",
     "output_type": "stream",
     "text": [
      "Class\n",
      "Normal    5270\n",
      "Alert     4729\n",
      "Name: count, dtype: int64\n"
     ]
    }
   ],
   "source": [
    "\n",
    "rows=9999\n",
    "new_col=[]\n",
    "for j in range(9999):\n",
    "    if( 6<=data_2.at[j,'sleep_average_weekly']<=8 & 60<=data_2.at[j,'resting_heart_rate']<=85 & 90<data_2.at[j, \"SO02_level\"]<100):\n",
    "        new_col.append(\"Normal\")\n",
    "    else:\n",
    "        new_col.append(\"Alert\")\n",
    "data_2.loc[:, \"Class\"] = new_col\n",
    "\n",
    "counts = data_2['Class'].value_counts()\n",
    "\n",
    "print(counts)"
   ]
  },
  {
   "cell_type": "code",
   "execution_count": 11,
   "id": "b5cb4657",
   "metadata": {},
   "outputs": [
    {
     "data": {
      "text/html": [
       "<div>\n",
       "<style scoped>\n",
       "    .dataframe tbody tr th:only-of-type {\n",
       "        vertical-align: middle;\n",
       "    }\n",
       "\n",
       "    .dataframe tbody tr th {\n",
       "        vertical-align: top;\n",
       "    }\n",
       "\n",
       "    .dataframe thead th {\n",
       "        text-align: right;\n",
       "    }\n",
       "</style>\n",
       "<table border=\"1\" class=\"dataframe\">\n",
       "  <thead>\n",
       "    <tr style=\"text-align: right;\">\n",
       "      <th></th>\n",
       "      <th>SO02_level</th>\n",
       "      <th>resting_heart_rate</th>\n",
       "      <th>average_weekly_steps</th>\n",
       "      <th>sleep_average_weekly</th>\n",
       "      <th>Class</th>\n",
       "    </tr>\n",
       "  </thead>\n",
       "  <tbody>\n",
       "    <tr>\n",
       "      <th>0</th>\n",
       "      <td>99</td>\n",
       "      <td>75</td>\n",
       "      <td>13762</td>\n",
       "      <td>5</td>\n",
       "      <td>Alert</td>\n",
       "    </tr>\n",
       "    <tr>\n",
       "      <th>1</th>\n",
       "      <td>99</td>\n",
       "      <td>55</td>\n",
       "      <td>1099</td>\n",
       "      <td>5</td>\n",
       "      <td>Alert</td>\n",
       "    </tr>\n",
       "    <tr>\n",
       "      <th>2</th>\n",
       "      <td>90</td>\n",
       "      <td>76</td>\n",
       "      <td>7885</td>\n",
       "      <td>7</td>\n",
       "      <td>Normal</td>\n",
       "    </tr>\n",
       "    <tr>\n",
       "      <th>3</th>\n",
       "      <td>87</td>\n",
       "      <td>78</td>\n",
       "      <td>11309</td>\n",
       "      <td>8</td>\n",
       "      <td>Normal</td>\n",
       "    </tr>\n",
       "    <tr>\n",
       "      <th>4</th>\n",
       "      <td>89</td>\n",
       "      <td>75</td>\n",
       "      <td>12889</td>\n",
       "      <td>9</td>\n",
       "      <td>Alert</td>\n",
       "    </tr>\n",
       "  </tbody>\n",
       "</table>\n",
       "</div>"
      ],
      "text/plain": [
       "   SO02_level  resting_heart_rate  average_weekly_steps  sleep_average_weekly  \\\n",
       "0          99                  75                 13762                     5   \n",
       "1          99                  55                  1099                     5   \n",
       "2          90                  76                  7885                     7   \n",
       "3          87                  78                 11309                     8   \n",
       "4          89                  75                 12889                     9   \n",
       "\n",
       "    Class  \n",
       "0   Alert  \n",
       "1   Alert  \n",
       "2  Normal  \n",
       "3  Normal  \n",
       "4   Alert  "
      ]
     },
     "execution_count": 11,
     "metadata": {},
     "output_type": "execute_result"
    }
   ],
   "source": [
    "data_2.head()"
   ]
  },
  {
   "cell_type": "code",
   "execution_count": 12,
   "id": "8c41a8a9",
   "metadata": {},
   "outputs": [],
   "source": [
    "from sklearn.metrics  import f1_score,accuracy_score\n",
    "from sklearn.tree import DecisionTreeClassifier\n",
    "from sklearn.model_selection import train_test_split"
   ]
  },
  {
   "cell_type": "code",
   "execution_count": 13,
   "id": "76637d71",
   "metadata": {},
   "outputs": [
    {
     "name": "stderr",
     "output_type": "stream",
     "text": [
      "C:\\Users\\nitik\\AppData\\Local\\Temp\\ipykernel_45632\\494743411.py:1: SettingWithCopyWarning: \n",
      "A value is trying to be set on a copy of a slice from a DataFrame.\n",
      "Try using .loc[row_indexer,col_indexer] = value instead\n",
      "\n",
      "See the caveats in the documentation: https://pandas.pydata.org/pandas-docs/stable/user_guide/indexing.html#returning-a-view-versus-a-copy\n",
      "  data_2['Class'] = data_2['Class'].map({\"Normal\":0,'Alert':1})\n"
     ]
    }
   ],
   "source": [
    "data_2['Class'] = data_2['Class'].map({\"Normal\":0,'Alert':1})"
   ]
  },
  {
   "cell_type": "code",
   "execution_count": 14,
   "id": "4fe0bed1",
   "metadata": {},
   "outputs": [
    {
     "data": {
      "text/html": [
       "<div>\n",
       "<style scoped>\n",
       "    .dataframe tbody tr th:only-of-type {\n",
       "        vertical-align: middle;\n",
       "    }\n",
       "\n",
       "    .dataframe tbody tr th {\n",
       "        vertical-align: top;\n",
       "    }\n",
       "\n",
       "    .dataframe thead th {\n",
       "        text-align: right;\n",
       "    }\n",
       "</style>\n",
       "<table border=\"1\" class=\"dataframe\">\n",
       "  <thead>\n",
       "    <tr style=\"text-align: right;\">\n",
       "      <th></th>\n",
       "      <th>SO02_level</th>\n",
       "      <th>resting_heart_rate</th>\n",
       "      <th>average_weekly_steps</th>\n",
       "      <th>sleep_average_weekly</th>\n",
       "      <th>Class</th>\n",
       "    </tr>\n",
       "  </thead>\n",
       "  <tbody>\n",
       "    <tr>\n",
       "      <th>0</th>\n",
       "      <td>99</td>\n",
       "      <td>75</td>\n",
       "      <td>13762</td>\n",
       "      <td>5</td>\n",
       "      <td>1</td>\n",
       "    </tr>\n",
       "    <tr>\n",
       "      <th>1</th>\n",
       "      <td>99</td>\n",
       "      <td>55</td>\n",
       "      <td>1099</td>\n",
       "      <td>5</td>\n",
       "      <td>1</td>\n",
       "    </tr>\n",
       "    <tr>\n",
       "      <th>2</th>\n",
       "      <td>90</td>\n",
       "      <td>76</td>\n",
       "      <td>7885</td>\n",
       "      <td>7</td>\n",
       "      <td>0</td>\n",
       "    </tr>\n",
       "    <tr>\n",
       "      <th>3</th>\n",
       "      <td>87</td>\n",
       "      <td>78</td>\n",
       "      <td>11309</td>\n",
       "      <td>8</td>\n",
       "      <td>0</td>\n",
       "    </tr>\n",
       "    <tr>\n",
       "      <th>4</th>\n",
       "      <td>89</td>\n",
       "      <td>75</td>\n",
       "      <td>12889</td>\n",
       "      <td>9</td>\n",
       "      <td>1</td>\n",
       "    </tr>\n",
       "  </tbody>\n",
       "</table>\n",
       "</div>"
      ],
      "text/plain": [
       "   SO02_level  resting_heart_rate  average_weekly_steps  sleep_average_weekly  \\\n",
       "0          99                  75                 13762                     5   \n",
       "1          99                  55                  1099                     5   \n",
       "2          90                  76                  7885                     7   \n",
       "3          87                  78                 11309                     8   \n",
       "4          89                  75                 12889                     9   \n",
       "\n",
       "   Class  \n",
       "0      1  \n",
       "1      1  \n",
       "2      0  \n",
       "3      0  \n",
       "4      1  "
      ]
     },
     "execution_count": 14,
     "metadata": {},
     "output_type": "execute_result"
    }
   ],
   "source": [
    "data_2.head()"
   ]
  },
  {
   "cell_type": "code",
   "execution_count": 15,
   "id": "3ba06e2d",
   "metadata": {},
   "outputs": [],
   "source": [
    "x=data_2.drop([\"Class\"],axis=1)\n",
    "y=data_2[\"Class\"]"
   ]
  },
  {
   "cell_type": "code",
   "execution_count": 16,
   "id": "1372cfa7",
   "metadata": {},
   "outputs": [],
   "source": [
    "x_train, x_test, y_train, y_test = train_test_split(x,y,test_size=0.25)"
   ]
  },
  {
   "cell_type": "code",
   "execution_count": 17,
   "id": "d07e657e",
   "metadata": {},
   "outputs": [],
   "source": [
    "dtc = DecisionTreeClassifier()"
   ]
  },
  {
   "cell_type": "code",
   "execution_count": 18,
   "id": "18b6e9f0",
   "metadata": {},
   "outputs": [
    {
     "data": {
      "text/html": [
       "<style>#sk-container-id-1 {color: black;}#sk-container-id-1 pre{padding: 0;}#sk-container-id-1 div.sk-toggleable {background-color: white;}#sk-container-id-1 label.sk-toggleable__label {cursor: pointer;display: block;width: 100%;margin-bottom: 0;padding: 0.3em;box-sizing: border-box;text-align: center;}#sk-container-id-1 label.sk-toggleable__label-arrow:before {content: \"▸\";float: left;margin-right: 0.25em;color: #696969;}#sk-container-id-1 label.sk-toggleable__label-arrow:hover:before {color: black;}#sk-container-id-1 div.sk-estimator:hover label.sk-toggleable__label-arrow:before {color: black;}#sk-container-id-1 div.sk-toggleable__content {max-height: 0;max-width: 0;overflow: hidden;text-align: left;background-color: #f0f8ff;}#sk-container-id-1 div.sk-toggleable__content pre {margin: 0.2em;color: black;border-radius: 0.25em;background-color: #f0f8ff;}#sk-container-id-1 input.sk-toggleable__control:checked~div.sk-toggleable__content {max-height: 200px;max-width: 100%;overflow: auto;}#sk-container-id-1 input.sk-toggleable__control:checked~label.sk-toggleable__label-arrow:before {content: \"▾\";}#sk-container-id-1 div.sk-estimator input.sk-toggleable__control:checked~label.sk-toggleable__label {background-color: #d4ebff;}#sk-container-id-1 div.sk-label input.sk-toggleable__control:checked~label.sk-toggleable__label {background-color: #d4ebff;}#sk-container-id-1 input.sk-hidden--visually {border: 0;clip: rect(1px 1px 1px 1px);clip: rect(1px, 1px, 1px, 1px);height: 1px;margin: -1px;overflow: hidden;padding: 0;position: absolute;width: 1px;}#sk-container-id-1 div.sk-estimator {font-family: monospace;background-color: #f0f8ff;border: 1px dotted black;border-radius: 0.25em;box-sizing: border-box;margin-bottom: 0.5em;}#sk-container-id-1 div.sk-estimator:hover {background-color: #d4ebff;}#sk-container-id-1 div.sk-parallel-item::after {content: \"\";width: 100%;border-bottom: 1px solid gray;flex-grow: 1;}#sk-container-id-1 div.sk-label:hover label.sk-toggleable__label {background-color: #d4ebff;}#sk-container-id-1 div.sk-serial::before {content: \"\";position: absolute;border-left: 1px solid gray;box-sizing: border-box;top: 0;bottom: 0;left: 50%;z-index: 0;}#sk-container-id-1 div.sk-serial {display: flex;flex-direction: column;align-items: center;background-color: white;padding-right: 0.2em;padding-left: 0.2em;position: relative;}#sk-container-id-1 div.sk-item {position: relative;z-index: 1;}#sk-container-id-1 div.sk-parallel {display: flex;align-items: stretch;justify-content: center;background-color: white;position: relative;}#sk-container-id-1 div.sk-item::before, #sk-container-id-1 div.sk-parallel-item::before {content: \"\";position: absolute;border-left: 1px solid gray;box-sizing: border-box;top: 0;bottom: 0;left: 50%;z-index: -1;}#sk-container-id-1 div.sk-parallel-item {display: flex;flex-direction: column;z-index: 1;position: relative;background-color: white;}#sk-container-id-1 div.sk-parallel-item:first-child::after {align-self: flex-end;width: 50%;}#sk-container-id-1 div.sk-parallel-item:last-child::after {align-self: flex-start;width: 50%;}#sk-container-id-1 div.sk-parallel-item:only-child::after {width: 0;}#sk-container-id-1 div.sk-dashed-wrapped {border: 1px dashed gray;margin: 0 0.4em 0.5em 0.4em;box-sizing: border-box;padding-bottom: 0.4em;background-color: white;}#sk-container-id-1 div.sk-label label {font-family: monospace;font-weight: bold;display: inline-block;line-height: 1.2em;}#sk-container-id-1 div.sk-label-container {text-align: center;}#sk-container-id-1 div.sk-container {/* jupyter's `normalize.less` sets `[hidden] { display: none; }` but bootstrap.min.css set `[hidden] { display: none !important; }` so we also need the `!important` here to be able to override the default hidden behavior on the sphinx rendered scikit-learn.org. See: https://github.com/scikit-learn/scikit-learn/issues/21755 */display: inline-block !important;position: relative;}#sk-container-id-1 div.sk-text-repr-fallback {display: none;}</style><div id=\"sk-container-id-1\" class=\"sk-top-container\"><div class=\"sk-text-repr-fallback\"><pre>DecisionTreeClassifier()</pre><b>In a Jupyter environment, please rerun this cell to show the HTML representation or trust the notebook. <br />On GitHub, the HTML representation is unable to render, please try loading this page with nbviewer.org.</b></div><div class=\"sk-container\" hidden><div class=\"sk-item\"><div class=\"sk-estimator sk-toggleable\"><input class=\"sk-toggleable__control sk-hidden--visually\" id=\"sk-estimator-id-1\" type=\"checkbox\" checked><label for=\"sk-estimator-id-1\" class=\"sk-toggleable__label sk-toggleable__label-arrow\">DecisionTreeClassifier</label><div class=\"sk-toggleable__content\"><pre>DecisionTreeClassifier()</pre></div></div></div></div></div>"
      ],
      "text/plain": [
       "DecisionTreeClassifier()"
      ]
     },
     "execution_count": 18,
     "metadata": {},
     "output_type": "execute_result"
    }
   ],
   "source": [
    "dtc.fit(x_train,y_train)"
   ]
  },
  {
   "cell_type": "code",
   "execution_count": 19,
   "id": "ddbaa59a",
   "metadata": {},
   "outputs": [],
   "source": [
    "y_pred = dtc.predict(x_test)"
   ]
  },
  {
   "cell_type": "code",
   "execution_count": 20,
   "id": "9aa95bf1",
   "metadata": {},
   "outputs": [
    {
     "data": {
      "text/plain": [
       "1.0"
      ]
     },
     "execution_count": 20,
     "metadata": {},
     "output_type": "execute_result"
    }
   ],
   "source": [
    "accuracy_score(y_pred,y_test)"
   ]
  },
  {
   "cell_type": "code",
   "execution_count": 21,
   "id": "2d76698a",
   "metadata": {},
   "outputs": [
    {
     "name": "stdout",
     "output_type": "stream",
     "text": [
      "resting_heart_rate\n",
      "76    427\n",
      "77    411\n",
      "75    406\n",
      "56    385\n",
      "73    375\n",
      "80    371\n",
      "71    367\n",
      "74    353\n",
      "67    343\n",
      "51    342\n",
      "55    340\n",
      "61    339\n",
      "79    331\n",
      "53    330\n",
      "69    323\n",
      "70    322\n",
      "58    312\n",
      "52    302\n",
      "50    302\n",
      "72    293\n",
      "78    283\n",
      "63    273\n",
      "64    271\n",
      "57    264\n",
      "60    264\n",
      "62    263\n",
      "59    251\n",
      "54    242\n",
      "66    222\n",
      "65    209\n",
      "68    179\n",
      "82     71\n",
      "85     61\n",
      "86     45\n",
      "84     44\n",
      "83     44\n",
      "81     39\n",
      "Name: count, dtype: int64\n"
     ]
    }
   ],
   "source": [
    "counts = data['resting_heart_rate'].value_counts()\n",
    "\n",
    "print(counts)"
   ]
  },
  {
   "cell_type": "code",
   "execution_count": 23,
   "id": "f2f218e4",
   "metadata": {},
   "outputs": [
    {
     "name": "stdout",
     "output_type": "stream",
     "text": [
      "sleep_average_weekly\n",
      "6     2639\n",
      "5     2594\n",
      "7     1912\n",
      "4     1090\n",
      "8      890\n",
      "10     305\n",
      "11     300\n",
      "9      269\n",
      "Name: count, dtype: int64\n"
     ]
    }
   ],
   "source": [
    "counts = data['sleep_average_weekly'].value_counts()\n",
    "\n",
    "print(counts)"
   ]
  },
  {
   "cell_type": "code",
   "execution_count": 24,
   "id": "985ab636",
   "metadata": {},
   "outputs": [
    {
     "name": "stdout",
     "output_type": "stream",
     "text": [
      "SO02_level\n",
      "97    854\n",
      "99    728\n",
      "95    710\n",
      "85    692\n",
      "93    682\n",
      "96    680\n",
      "98    660\n",
      "86    650\n",
      "87    644\n",
      "92    640\n",
      "89    637\n",
      "88    630\n",
      "90    626\n",
      "91    604\n",
      "94    562\n",
      "Name: count, dtype: int64\n"
     ]
    }
   ],
   "source": [
    "\n",
    "counts = data['SO02_level'].value_counts()\n",
    "\n",
    "print(counts)"
   ]
  },
  {
   "cell_type": "code",
   "execution_count": 26,
   "id": "0db3d7e3",
   "metadata": {},
   "outputs": [
    {
     "name": "stdout",
     "output_type": "stream",
     "text": [
      "Class\n",
      "Normal    5441\n",
      "Alert     4558\n",
      "Name: count, dtype: int64\n"
     ]
    }
   ],
   "source": [
    "rows=9999\n",
    "new_col=[]\n",
    "for j in range(9999):\n",
    "    if( 6<=data_2.at[j,'sleep_average_weekly']<=8 ):\n",
    "        new_col.append(\"Normal\")\n",
    "    else:\n",
    "        new_col.append(\"Alert\")\n",
    "data_2.loc[:, \"Class\"] = new_col\n",
    "\n",
    "counts = data_2['Class'].value_counts()\n",
    "\n",
    "print(counts)"
   ]
  },
  {
   "cell_type": "code",
   "execution_count": 27,
   "id": "860e20c5",
   "metadata": {},
   "outputs": [
    {
     "name": "stdout",
     "output_type": "stream",
     "text": [
      "Class\n",
      "Normal    6884\n",
      "Alert     3115\n",
      "Name: count, dtype: int64\n"
     ]
    }
   ],
   "source": [
    "rows=9999\n",
    "new_col=[]\n",
    "for j in range(9999):\n",
    "    if(  60<=data_2.at[j,'resting_heart_rate']<=85 ):\n",
    "        new_col.append(\"Normal\")\n",
    "    else:\n",
    "        new_col.append(\"Alert\")\n",
    "data_2.loc[:, \"Class\"] = new_col\n",
    "\n",
    "counts = data_2['Class'].value_counts()\n",
    "\n",
    "print(counts)"
   ]
  },
  {
   "cell_type": "code",
   "execution_count": 28,
   "id": "41b2cd82",
   "metadata": {},
   "outputs": [
    {
     "name": "stdout",
     "output_type": "stream",
     "text": [
      "Class\n",
      "Normal    6120\n",
      "Alert     3879\n",
      "Name: count, dtype: int64\n"
     ]
    }
   ],
   "source": [
    "rows=9999\n",
    "new_col=[]\n",
    "for j in range(9999):\n",
    "    if( 90<data_2.at[j, \"SO02_level\"]<100):\n",
    "        new_col.append(\"Normal\")\n",
    "    else:\n",
    "        new_col.append(\"Alert\")\n",
    "data_2.loc[:, \"Class\"] = new_col\n",
    "\n",
    "counts = data_2['Class'].value_counts()\n",
    "\n",
    "print(counts)"
   ]
  },
  {
   "cell_type": "code",
   "execution_count": 31,
   "id": "93defde5",
   "metadata": {},
   "outputs": [],
   "source": [
    "\n",
    "for x in range(9999):\n",
    "    if(5<=data_2.at[x,'sleep_average_weekly']<=7):\n",
    "        data_2.at[x,'sleep_average_weekly']=random.randint(5,7)"
   ]
  },
  {
   "cell_type": "code",
   "execution_count": 32,
   "id": "e8f860ba",
   "metadata": {},
   "outputs": [
    {
     "name": "stdout",
     "output_type": "stream",
     "text": [
      "Class\n",
      "Normal    5643\n",
      "Alert     4356\n",
      "Name: count, dtype: int64\n"
     ]
    }
   ],
   "source": [
    "rows=9999\n",
    "new_col=[]\n",
    "for j in range(9999):\n",
    "    if( 6<=data_2.at[j,'sleep_average_weekly']<=8 ):\n",
    "        new_col.append(\"Normal\")\n",
    "    else:\n",
    "        new_col.append(\"Alert\")\n",
    "data_2.loc[:, \"Class\"] = new_col\n",
    "\n",
    "counts = data_2['Class'].value_counts()\n",
    "\n",
    "print(counts)"
   ]
  },
  {
   "cell_type": "code",
   "execution_count": 34,
   "id": "d4b519bb",
   "metadata": {},
   "outputs": [
    {
     "data": {
      "text/html": [
       "<style>#sk-container-id-2 {color: black;}#sk-container-id-2 pre{padding: 0;}#sk-container-id-2 div.sk-toggleable {background-color: white;}#sk-container-id-2 label.sk-toggleable__label {cursor: pointer;display: block;width: 100%;margin-bottom: 0;padding: 0.3em;box-sizing: border-box;text-align: center;}#sk-container-id-2 label.sk-toggleable__label-arrow:before {content: \"▸\";float: left;margin-right: 0.25em;color: #696969;}#sk-container-id-2 label.sk-toggleable__label-arrow:hover:before {color: black;}#sk-container-id-2 div.sk-estimator:hover label.sk-toggleable__label-arrow:before {color: black;}#sk-container-id-2 div.sk-toggleable__content {max-height: 0;max-width: 0;overflow: hidden;text-align: left;background-color: #f0f8ff;}#sk-container-id-2 div.sk-toggleable__content pre {margin: 0.2em;color: black;border-radius: 0.25em;background-color: #f0f8ff;}#sk-container-id-2 input.sk-toggleable__control:checked~div.sk-toggleable__content {max-height: 200px;max-width: 100%;overflow: auto;}#sk-container-id-2 input.sk-toggleable__control:checked~label.sk-toggleable__label-arrow:before {content: \"▾\";}#sk-container-id-2 div.sk-estimator input.sk-toggleable__control:checked~label.sk-toggleable__label {background-color: #d4ebff;}#sk-container-id-2 div.sk-label input.sk-toggleable__control:checked~label.sk-toggleable__label {background-color: #d4ebff;}#sk-container-id-2 input.sk-hidden--visually {border: 0;clip: rect(1px 1px 1px 1px);clip: rect(1px, 1px, 1px, 1px);height: 1px;margin: -1px;overflow: hidden;padding: 0;position: absolute;width: 1px;}#sk-container-id-2 div.sk-estimator {font-family: monospace;background-color: #f0f8ff;border: 1px dotted black;border-radius: 0.25em;box-sizing: border-box;margin-bottom: 0.5em;}#sk-container-id-2 div.sk-estimator:hover {background-color: #d4ebff;}#sk-container-id-2 div.sk-parallel-item::after {content: \"\";width: 100%;border-bottom: 1px solid gray;flex-grow: 1;}#sk-container-id-2 div.sk-label:hover label.sk-toggleable__label {background-color: #d4ebff;}#sk-container-id-2 div.sk-serial::before {content: \"\";position: absolute;border-left: 1px solid gray;box-sizing: border-box;top: 0;bottom: 0;left: 50%;z-index: 0;}#sk-container-id-2 div.sk-serial {display: flex;flex-direction: column;align-items: center;background-color: white;padding-right: 0.2em;padding-left: 0.2em;position: relative;}#sk-container-id-2 div.sk-item {position: relative;z-index: 1;}#sk-container-id-2 div.sk-parallel {display: flex;align-items: stretch;justify-content: center;background-color: white;position: relative;}#sk-container-id-2 div.sk-item::before, #sk-container-id-2 div.sk-parallel-item::before {content: \"\";position: absolute;border-left: 1px solid gray;box-sizing: border-box;top: 0;bottom: 0;left: 50%;z-index: -1;}#sk-container-id-2 div.sk-parallel-item {display: flex;flex-direction: column;z-index: 1;position: relative;background-color: white;}#sk-container-id-2 div.sk-parallel-item:first-child::after {align-self: flex-end;width: 50%;}#sk-container-id-2 div.sk-parallel-item:last-child::after {align-self: flex-start;width: 50%;}#sk-container-id-2 div.sk-parallel-item:only-child::after {width: 0;}#sk-container-id-2 div.sk-dashed-wrapped {border: 1px dashed gray;margin: 0 0.4em 0.5em 0.4em;box-sizing: border-box;padding-bottom: 0.4em;background-color: white;}#sk-container-id-2 div.sk-label label {font-family: monospace;font-weight: bold;display: inline-block;line-height: 1.2em;}#sk-container-id-2 div.sk-label-container {text-align: center;}#sk-container-id-2 div.sk-container {/* jupyter's `normalize.less` sets `[hidden] { display: none; }` but bootstrap.min.css set `[hidden] { display: none !important; }` so we also need the `!important` here to be able to override the default hidden behavior on the sphinx rendered scikit-learn.org. See: https://github.com/scikit-learn/scikit-learn/issues/21755 */display: inline-block !important;position: relative;}#sk-container-id-2 div.sk-text-repr-fallback {display: none;}</style><div id=\"sk-container-id-2\" class=\"sk-top-container\"><div class=\"sk-text-repr-fallback\"><pre>DecisionTreeClassifier()</pre><b>In a Jupyter environment, please rerun this cell to show the HTML representation or trust the notebook. <br />On GitHub, the HTML representation is unable to render, please try loading this page with nbviewer.org.</b></div><div class=\"sk-container\" hidden><div class=\"sk-item\"><div class=\"sk-estimator sk-toggleable\"><input class=\"sk-toggleable__control sk-hidden--visually\" id=\"sk-estimator-id-2\" type=\"checkbox\" checked><label for=\"sk-estimator-id-2\" class=\"sk-toggleable__label sk-toggleable__label-arrow\">DecisionTreeClassifier</label><div class=\"sk-toggleable__content\"><pre>DecisionTreeClassifier()</pre></div></div></div></div></div>"
      ],
      "text/plain": [
       "DecisionTreeClassifier()"
      ]
     },
     "execution_count": 34,
     "metadata": {},
     "output_type": "execute_result"
    }
   ],
   "source": [
    "x=data_2.drop([\"Class\"],axis=1)\n",
    "y=data_2[\"Class\"]\n",
    "x_train, x_test, y_train, y_test = train_test_split(x,y,test_size=0.25)\n",
    "dtc = DecisionTreeClassifier()\n",
    "dtc.fit(x_train,y_train)"
   ]
  },
  {
   "cell_type": "code",
   "execution_count": 35,
   "id": "27a4c731",
   "metadata": {},
   "outputs": [
    {
     "data": {
      "text/plain": [
       "1.0"
      ]
     },
     "execution_count": 35,
     "metadata": {},
     "output_type": "execute_result"
    }
   ],
   "source": [
    "y_pred = dtc.predict(x_test)\n",
    "accuracy_score(y_pred,y_test)"
   ]
  },
  {
   "cell_type": "code",
   "execution_count": null,
   "id": "956fb026",
   "metadata": {},
   "outputs": [],
   "source": []
  }
 ],
 "metadata": {
  "kernelspec": {
   "display_name": "Python 3 (ipykernel)",
   "language": "python",
   "name": "python3"
  },
  "language_info": {
   "codemirror_mode": {
    "name": "ipython",
    "version": 3
   },
   "file_extension": ".py",
   "mimetype": "text/x-python",
   "name": "python",
   "nbconvert_exporter": "python",
   "pygments_lexer": "ipython3",
   "version": "3.11.5"
  }
 },
 "nbformat": 4,
 "nbformat_minor": 5
}
