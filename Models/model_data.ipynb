{
 "cells": [
  {
   "cell_type": "code",
   "execution_count": 1,
   "id": "27781704",
   "metadata": {},
   "outputs": [
    {
     "name": "stdout",
     "output_type": "stream",
     "text": [
      "<class 'pandas.core.frame.DataFrame'>\n",
      "RangeIndex: 9999 entries, 0 to 9998\n",
      "Data columns (total 12 columns):\n",
      " #   Column                Non-Null Count  Dtype\n",
      "---  ------                --------------  -----\n",
      " 0   age                   9999 non-null   int64\n",
      " 1   Weight                9999 non-null   int64\n",
      " 2   SO02_level            9999 non-null   int64\n",
      " 3   resting_heart_rate    9999 non-null   int64\n",
      " 4   smoke normal          9999 non-null   bool \n",
      " 5   Stress factor normal  9999 non-null   bool \n",
      " 6   BMI                   9999 non-null   int64\n",
      " 7   ECG_normal            9999 non-null   bool \n",
      " 8   average_weekly_steps  9999 non-null   int64\n",
      " 9   sleep_average_weekly  9999 non-null   int64\n",
      " 10  HIIT                  9999 non-null   int64\n",
      " 11  Insurance factor      9999 non-null   int64\n",
      "dtypes: bool(3), int64(9)\n",
      "memory usage: 732.5 KB\n",
      "Class\n",
      "Alert    9999\n",
      "Name: count, dtype: int64\n",
      "Class\n",
      "Normal    5267\n",
      "Alert     4732\n",
      "Name: count, dtype: int64\n",
      "              precision    recall  f1-score   support\n",
      "\n",
      "           0       0.98      0.96      0.97      1329\n",
      "           1       0.96      0.97      0.96      1171\n",
      "\n",
      "    accuracy                           0.97      2500\n",
      "   macro avg       0.97      0.97      0.97      2500\n",
      "weighted avg       0.97      0.97      0.97      2500\n",
      "\n"
     ]
    },
    {
     "name": "stderr",
     "output_type": "stream",
     "text": [
      "C:\\Users\\nitik\\AppData\\Local\\Temp\\ipykernel_21968\\3503461657.py:39: SettingWithCopyWarning: \n",
      "A value is trying to be set on a copy of a slice from a DataFrame.\n",
      "Try using .loc[row_indexer,col_indexer] = value instead\n",
      "\n",
      "See the caveats in the documentation: https://pandas.pydata.org/pandas-docs/stable/user_guide/indexing.html#returning-a-view-versus-a-copy\n",
      "  data_2.loc[:, \"Class\"] = new_col\n",
      "C:\\Users\\nitik\\AppData\\Local\\Temp\\ipykernel_21968\\3503461657.py:70: SettingWithCopyWarning: \n",
      "A value is trying to be set on a copy of a slice from a DataFrame.\n",
      "Try using .loc[row_indexer,col_indexer] = value instead\n",
      "\n",
      "See the caveats in the documentation: https://pandas.pydata.org/pandas-docs/stable/user_guide/indexing.html#returning-a-view-versus-a-copy\n",
      "  data_2['Class'] = data_2['Class'].map({\"Normal\":0,'Alert':1})\n"
     ]
    },
    {
     "data": {
      "text/plain": [
       "0.9668"
      ]
     },
     "execution_count": 1,
     "metadata": {},
     "output_type": "execute_result"
    }
   ],
   "source": [
    "import pandas as pd\n",
    "import numpy as np\n",
    "import matplotlib.pyplot as plt\n",
    "import seaborn as sns\n",
    "from sklearn.utils import resample\n",
    "from sklearn.naive_bayes import GaussianNB\n",
    "from sklearn.metrics import confusion_matrix, classification_report\n",
    "from sklearn.preprocessing import StandardScaler, LabelEncoder\n",
    "from sklearn.model_selection import train_test_split, GridSearchCV, cross_val_score\n",
    "\n",
    "df=pd.read_csv(r'C:\\Users\\nitik\\OneDrive\\Documents\\healthhack\\Fitbit-data.csv')\n",
    "\n",
    "df.head()\n",
    "\n",
    "df.info()\n",
    "data= df[[\"SO02_level\", \"resting_heart_rate\", \"average_weekly_steps\", \"sleep_average_weekly\"]]\n",
    "data.head()\n",
    "data_2=data\n",
    "import random\n",
    "\n",
    "for x in range(9999):\n",
    "    if(data_2.at[x,'sleep_average_weekly']>8):\n",
    "        data_2.at[x,'sleep_average_weekly']=random.randint(5,7)\n",
    "\n",
    "index_list=[]\n",
    "for x in range(9999):\n",
    "    if(data_2.at[x,'sleep_average_weekly']>6):\n",
    "        index_list.append(x)\n",
    "\n",
    "for j in range(1000):\n",
    "       data_2.at[random.choice(index_list),'sleep_average_weekly']=random.randint(9,11)\n",
    "rows=9999\n",
    "new_col=[]\n",
    "for j in range(9999):\n",
    "    if(6<=data_2.at[j,'sleep_average_weekly']<=8 & 55<=data_2.at[j,'resting_heart_rate']<=85):\n",
    "        new_col.append(\"Normal\")\n",
    "    else:\n",
    "        new_col.append(\"Alert\")\n",
    "data_2.loc[:, \"Class\"] = new_col\n",
    "\n",
    "counts = data_2['Class'].value_counts()\n",
    "\n",
    "print(counts)\n",
    "\n",
    "\n",
    "index_list=[]\n",
    "for x in range(9999):\n",
    "    if(55<=data_2.at[x,'resting_heart_rate']<=70):\n",
    "        index_list.append(x)\n",
    "\n",
    "for j in range(1072):\n",
    "       data_2.at[random.choice(index_list),'resting_heart_rate']=random.randint(69,86)\n",
    "\n",
    "rows=9999\n",
    "new_col=[]\n",
    "for j in range(9999):\n",
    "    if( 6<=data_2.at[j,'sleep_average_weekly']<=8 & 60<=data_2.at[j,'resting_heart_rate']<=85 & 90<data_2.at[j, \"SO02_level\"]<100):\n",
    "        new_col.append(\"Normal\")\n",
    "    else:\n",
    "        new_col.append(\"Alert\")\n",
    "data_2.loc[:, \"Class\"] = new_col\n",
    "\n",
    "counts = data_2['Class'].value_counts()\n",
    "\n",
    "print(counts)\n",
    "\n",
    "from sklearn.metrics  import f1_score,accuracy_score\n",
    "from sklearn.model_selection import train_test_split\n",
    "\n",
    "data_2['Class'] = data_2['Class'].map({\"Normal\":0,'Alert':1})\n",
    "x=data_2.drop([\"Class\"],axis=1)\n",
    "y=data_2[\"Class\"]\n",
    "x_train, x_test, y_train, y_test = train_test_split(x,y,test_size=0.25)\n",
    "\n",
    "NB = GaussianNB()\n",
    "NB.fit(x_train, y_train)\n",
    "pred_NB = NB.predict(x_test)\n",
    "print(classification_report(y_test, pred_NB))\n",
    "accuracy_score(pred_NB,y_test)"
   ]
  },
  {
   "cell_type": "code",
   "execution_count": 2,
   "id": "31abe999",
   "metadata": {},
   "outputs": [
    {
     "name": "stdout",
     "output_type": "stream",
     "text": [
      "Model dumped!\n",
      "Models columns dumped!\n"
     ]
    }
   ],
   "source": [
    "import joblib\n",
    "joblib.dump(NB, 'model.pkl')\n",
    "print(\"Model dumped!\")\n",
    "\n",
    "# Load the model that you just saved\n",
    "NB = joblib.load('model.pkl')\n",
    "\n",
    "# Saving the data columns from training\n",
    "model_columns = list(x.columns)\n",
    "joblib.dump(model_columns, 'model_columns.pkl')\n",
    "print(\"Models columns dumped!\")"
   ]
  },
  {
   "cell_type": "code",
   "execution_count": null,
   "id": "5212e59e",
   "metadata": {},
   "outputs": [],
   "source": []
  }
 ],
 "metadata": {
  "kernelspec": {
   "display_name": "Python 3 (ipykernel)",
   "language": "python",
   "name": "python3"
  },
  "language_info": {
   "codemirror_mode": {
    "name": "ipython",
    "version": 3
   },
   "file_extension": ".py",
   "mimetype": "text/x-python",
   "name": "python",
   "nbconvert_exporter": "python",
   "pygments_lexer": "ipython3",
   "version": "3.11.5"
  }
 },
 "nbformat": 4,
 "nbformat_minor": 5
}
